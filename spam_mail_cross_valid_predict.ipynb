{
  "nbformat": 4,
  "nbformat_minor": 0,
  "metadata": {
    "colab": {
      "provenance": [],
      "toc_visible": true
    },
    "kernelspec": {
      "name": "python3",
      "display_name": "Python 3"
    },
    "language_info": {
      "name": "python"
    }
  },
  "cells": [
    {
      "cell_type": "code",
      "execution_count": null,
      "metadata": {
        "id": "WONbrjRR-4kh"
      },
      "outputs": [],
      "source": [
        "import numpy as np\n",
        "import pandas as pd\n",
        "from sklearn.model_selection import train_test_split, cross_val_score\n",
        "from sklearn.feature_extraction.text import TfidfVectorizer\n",
        "from sklearn.linear_model import LogisticRegression\n",
        "from sklearn.naive_bayes import MultinomialNB\n",
        "from sklearn.ensemble import RandomForestClassifier, VotingClassifier\n",
        "from sklearn.svm import SVC\n",
        "from sklearn.metrics import accuracy_score\n",
        "\n",
        "\n",
        "\n",
        "\n",
        "\n",
        "\n",
        "\n",
        "\n",
        "\n",
        "\n",
        "\n",
        "\n",
        "\n",
        "\n",
        "\n",
        "\n",
        "\n"
      ]
    },
    {
      "cell_type": "code",
      "source": [
        "raw_mail_data = pd.read_csv('/content/mail_data.csv')\n",
        "\n",
        "mail_data = raw_mail_data.where(pd.notnull(raw_mail_data), '')\n",
        "\n",
        "mail_data.loc[mail_data['Category'] == 'spam', 'Category'] = 0\n",
        "mail_data.loc[mail_data['Category'] == 'ham', 'Category'] = 1\n",
        "\n",
        "X = mail_data['Message']\n",
        "Y = mail_data['Category']"
      ],
      "metadata": {
        "id": "ol4hrL0VETSn"
      },
      "execution_count": null,
      "outputs": []
    },
    {
      "cell_type": "code",
      "source": [
        "X_train, X_test, Y_train, Y_test = train_test_split(X, Y, test_size=0.2, random_state=3)\n",
        "\n",
        "feature_extraction = TfidfVectorizer(min_df=1, stop_words='english', lowercase=True)\n",
        "X_train_features = feature_extraction.fit_transform(X_train)\n",
        "X_test_features = feature_extraction.transform(X_test)\n",
        "\n",
        "Y_train = Y_train.astype('int')\n",
        "Y_test = Y_test.astype('int')"
      ],
      "metadata": {
        "id": "qHpUula_EVD2"
      },
      "execution_count": null,
      "outputs": []
    },
    {
      "cell_type": "code",
      "source": [
        "logistic_model = LogisticRegression()\n",
        "logistic_model.fit(X_train_features, Y_train)\n",
        "\n",
        "logistic_cv_scores = cross_val_score(logistic_model, X_train_features, Y_train, cv=5)\n",
        "print('Cross-validation mean score for Logistic Regression: ', logistic_cv_scores.mean())\n"
      ],
      "metadata": {
        "id": "IVHdBKZ6-6Mw",
        "colab": {
          "base_uri": "https://localhost:8080/"
        },
        "outputId": "c78cac84-ce69-4045-e376-4ad81cda5b19"
      },
      "execution_count": null,
      "outputs": [
        {
          "output_type": "stream",
          "name": "stdout",
          "text": [
            "Cross-validation mean score for Logistic Regression:  0.9403199911421138\n"
          ]
        }
      ]
    },
    {
      "cell_type": "code",
      "source": [
        "nb_model = MultinomialNB()\n",
        "nb_model.fit(X_train_features, Y_train)\n",
        "\n",
        "nb_cv_scores = cross_val_score(nb_model, X_train_features, Y_train, cv=5)\n",
        "print('Cross-validation mean score for Naive Bayes: ', nb_cv_scores.mean())"
      ],
      "metadata": {
        "colab": {
          "base_uri": "https://localhost:8080/"
        },
        "id": "emToeFF7EkM3",
        "outputId": "60609274-18d6-4098-c2bd-8978f6c6e4ee"
      },
      "execution_count": null,
      "outputs": [
        {
          "output_type": "stream",
          "name": "stdout",
          "text": [
            "Cross-validation mean score for Naive Bayes:  0.9685867141771476\n"
          ]
        }
      ]
    },
    {
      "cell_type": "code",
      "source": [
        "rf_model = RandomForestClassifier()\n",
        "rf_model.fit(X_train_features, Y_train)\n",
        "\n",
        "rf_cv_scores = cross_val_score(rf_model, X_train_features, Y_train, cv=5)\n",
        "print('Cross-validation mean score for Random Forest: ', rf_cv_scores.mean())\n"
      ],
      "metadata": {
        "colab": {
          "base_uri": "https://localhost:8080/"
        },
        "id": "BZcEjuCZEpEV",
        "outputId": "7784c222-8788-4cf5-bb6d-e5e2d9bb1d03"
      },
      "execution_count": null,
      "outputs": [
        {
          "output_type": "stream",
          "name": "stdout",
          "text": [
            "Cross-validation mean score for Random Forest:  0.973748697739729\n"
          ]
        }
      ]
    },
    {
      "cell_type": "code",
      "source": [
        "svm_model = SVC(kernel='linear')  # Linear SVM for text classification\n",
        "svm_model.fit(X_train_features, Y_train)\n",
        "\n",
        "svm_cv_scores = cross_val_score(svm_model, X_train_features, Y_train, cv=5)\n",
        "print('Cross-validation mean score for SVM: ', svm_cv_scores.mean())"
      ],
      "metadata": {
        "colab": {
          "base_uri": "https://localhost:8080/"
        },
        "id": "LIV5IZZTE3zl",
        "outputId": "b0806c33-aec6-4cef-c8dd-57614d10c6b7"
      },
      "execution_count": null,
      "outputs": [
        {
          "output_type": "stream",
          "name": "stdout",
          "text": [
            "Cross-validation mean score for SVM:  0.9759916051395873\n"
          ]
        }
      ]
    },
    {
      "cell_type": "code",
      "source": [
        "\n",
        "logistic_train_predictions = logistic_model.predict(X_train_features)\n",
        "logistic_train_accuracy = accuracy_score(Y_train, logistic_train_predictions)\n",
        "print('Accuracy on training data (Logistic Regression): ', logistic_train_accuracy)\n",
        "\n",
        "logistic_test_predictions = logistic_model.predict(X_test_features)\n",
        "logistic_test_accuracy = accuracy_score(Y_test, logistic_test_predictions)\n",
        "print('Accuracy on test data (Logistic Regression): ', logistic_test_accuracy)"
      ],
      "metadata": {
        "colab": {
          "base_uri": "https://localhost:8080/"
        },
        "id": "JZKieV4UFAAl",
        "outputId": "adf2da26-f1c5-4d81-a31a-70e959f3390f"
      },
      "execution_count": null,
      "outputs": [
        {
          "output_type": "stream",
          "name": "stdout",
          "text": [
            "Accuracy on training data (Logistic Regression):  0.9676912721561588\n",
            "Accuracy on test data (Logistic Regression):  0.9668161434977578\n"
          ]
        }
      ]
    },
    {
      "cell_type": "code",
      "source": [
        "input_mail = [\"I've been searching for the right words to thank you for this breather. I promise i wont take your help for granted and will fulfil my promise. You have been wonderful and a blessing at all times\"]\n",
        "\n",
        "input_data_features = feature_extraction.transform(input_mail)\n",
        "\n",
        "logistic_prediction = logistic_model.predict(input_data_features)\n",
        "print('Logistic Regression Prediction:', 'Ham mail' if logistic_prediction[0] == 1 else 'Spam mail')"
      ],
      "metadata": {
        "colab": {
          "base_uri": "https://localhost:8080/"
        },
        "id": "j1nd3jCaFU8u",
        "outputId": "930fdd92-a47c-428a-9903-127df1455977"
      },
      "execution_count": null,
      "outputs": [
        {
          "output_type": "stream",
          "name": "stdout",
          "text": [
            "Logistic Regression Prediction: Ham mail\n"
          ]
        }
      ]
    },
    {
      "cell_type": "code",
      "source": [
        "nb_prediction = nb_model.predict(input_data_features)\n",
        "rf_prediction = rf_model.predict(input_data_features)\n",
        "svm_prediction = svm_model.predict(input_data_features)\n",
        "\n",
        "print('Naive Bayes Prediction:', 'Ham mail' if nb_prediction[0] == 1 else 'Spam mail')\n",
        "print('Random Forest Prediction:', 'Ham mail' if rf_prediction[0] == 1 else 'Spam mail')\n",
        "print('SVM Prediction:', 'Ham mail' if svm_prediction[0] == 1 else 'Spam mail')\n"
      ],
      "metadata": {
        "colab": {
          "base_uri": "https://localhost:8080/"
        },
        "id": "SpkiTaniFWJT",
        "outputId": "de332918-2ac4-4af8-f813-3657b1278691"
      },
      "execution_count": null,
      "outputs": [
        {
          "output_type": "stream",
          "name": "stdout",
          "text": [
            "Naive Bayes Prediction: Ham mail\n",
            "Random Forest Prediction: Ham mail\n",
            "SVM Prediction: Ham mail\n"
          ]
        }
      ]
    },
    {
      "cell_type": "code",
      "source": [
        "new_data = X_test[:100]\n",
        "new_data_features = feature_extraction.transform(new_data)\n",
        "\n",
        "new_data_predictions = logistic_model.predict(new_data_features)\n",
        "nb_prediction = nb_model.predict(new_data_features)\n",
        "rf_prediction = rf_model.predict(new_data_features)\n",
        "svm_prediction = svm_model.predict(new_data_features)\n",
        "\n",
        "prediction_results = pd.DataFrame({\n",
        "    'Message': new_data,\n",
        "    'Actual': Y_test[:100].values,\n",
        "    'Predicted': new_data_predictions,\n",
        "    'nb_predicted': nb_prediction,\n",
        "    'rf_predicted': rf_prediction,\n",
        "    'svm_predicted': svm_prediction,\n",
        "\n",
        "})\n",
        "\n",
        "prediction_results.to_csv('/content/prediction_results.csv', index=False)\n",
        "\n",
        "print('Predictions for 100 new mails have been saved to prediction_results.csv')\n"
      ],
      "metadata": {
        "colab": {
          "base_uri": "https://localhost:8080/"
        },
        "id": "V6nUNTRRFWqF",
        "outputId": "c2c0a214-29d0-464c-853c-a5753da2b184"
      },
      "execution_count": null,
      "outputs": [
        {
          "output_type": "stream",
          "name": "stdout",
          "text": [
            "Predictions for 100 new mails have been saved to prediction_results.csv\n"
          ]
        }
      ]
    },
    {
      "cell_type": "code",
      "source": [
        "voting_classifier = VotingClassifier(estimators=[\n",
        "    ('logistic', logistic_model),\n",
        "    ('naive_bayes', nb_model),\n",
        "    ('random_forest', rf_model),\n",
        "    ('svm', svm_model)\n",
        "], voting='hard')\n",
        "\n",
        "voting_classifier.fit(X_train_features, Y_train)\n",
        "\n",
        "voting_predictions = voting_classifier.predict(X_test_features)\n",
        "voting_accuracy = accuracy_score(Y_test, voting_predictions)\n",
        "print('Accuracy with Voting Classifier: ', voting_accuracy)\n"
      ],
      "metadata": {
        "colab": {
          "base_uri": "https://localhost:8080/"
        },
        "id": "kJ_WUuwqFmQB",
        "outputId": "41806214-b0bb-48b7-c1fe-734a926b4aa8"
      },
      "execution_count": null,
      "outputs": [
        {
          "output_type": "stream",
          "name": "stdout",
          "text": [
            "Accuracy with Voting Classifier:  0.9802690582959641\n"
          ]
        }
      ]
    }
  ]
}